{
  "nbformat": 4,
  "nbformat_minor": 0,
  "metadata": {
    "colab": {
      "provenance": [],
      "authorship_tag": "ABX9TyPooiw4RjfRAf+AKrRwilTf",
      "include_colab_link": true
    },
    "kernelspec": {
      "name": "python3",
      "display_name": "Python 3"
    },
    "language_info": {
      "name": "python"
    }
  },
  "cells": [
    {
      "cell_type": "markdown",
      "metadata": {
        "id": "view-in-github",
        "colab_type": "text"
      },
      "source": [
        "<a href=\"https://colab.research.google.com/github/Nishantthakurrr/Time-Series-Analysis-S-P-500-/blob/main/Correlation_Between_GOOG_%26_Meta_Price.ipynb\" target=\"_parent\"><img src=\"https://colab.research.google.com/assets/colab-badge.svg\" alt=\"Open In Colab\"/></a>"
      ]
    },
    {
      "cell_type": "code",
      "execution_count": 1,
      "metadata": {
        "id": "5x9GMN1nMo8l"
      },
      "outputs": [],
      "source": [
        "import pandas as pd\n",
        "import numpy as np\n",
        "import matplotlib.pyplot as plt\n",
        "import seaborn as sns\n",
        "import plotly.express as px"
      ]
    },
    {
      "cell_type": "code",
      "source": [
        "GOOG=pd.read_csv(\"https://docs.google.com/spreadsheets/d/e/2PACX-1vTjXECBaVxzxl3xPQxU25h-Cve6JiLPv_TThrlY9j1J2R6T61xvKZqX3Nf6Reh19LfkpJqYcgVnwEyr/pub?gid=1681697291&single=true&output=csv\")"
      ],
      "metadata": {
        "id": "sgG7-ow7M216"
      },
      "execution_count": 2,
      "outputs": []
    },
    {
      "cell_type": "code",
      "source": [
        "META=pd.read_csv(\"https://docs.google.com/spreadsheets/d/e/2PACX-1vTiXI4wK3X6Y36jOb2iw-AuNPpWMK5UrL6fn66i-w2ENxQgvaaCm_zejLKKK_N_X-fEiG-_mXhJSJOA/pub?output=csv\")"
      ],
      "metadata": {
        "id": "M7C1lzxeNDr4"
      },
      "execution_count": 3,
      "outputs": []
    },
    {
      "cell_type": "code",
      "source": [
        "GOOG, META"
      ],
      "metadata": {
        "colab": {
          "base_uri": "https://localhost:8080/"
        },
        "id": "-Cobie6ENmfE",
        "outputId": "489ea865-25b2-41a5-869b-d975eb183834"
      },
      "execution_count": 4,
      "outputs": [
        {
          "output_type": "execute_result",
          "data": {
            "text/plain": [
              "(           Date        Open        High         Low       Close   Adj Close  \\\n",
              " 0    2023-06-29  120.089996  120.910004  119.209999  120.010002  119.873589   \n",
              " 1    2023-06-30  121.099998  122.029999  120.879997  120.970001  120.832497   \n",
              " 2    2023-07-03  120.320000  121.019997  119.705002  120.559998  120.422958   \n",
              " 3    2023-07-05  120.059998  123.370003  120.059998  122.629997  122.490608   \n",
              " 4    2023-07-06  120.639999  121.150002  119.250000  120.930000  120.792542   \n",
              " ..          ...         ...         ...         ...         ...         ...   \n",
              " 247  2024-06-24  181.279999  182.080002  180.229996  180.789993  180.789993   \n",
              " 248  2024-06-25  181.145004  185.750000  181.104996  185.580002  185.580002   \n",
              " 249  2024-06-26  184.199997  185.929993  183.990005  185.369995  185.369995   \n",
              " 250  2024-06-27  185.645004  187.500000  185.449997  186.860001  186.860001   \n",
              " 251  2024-06-28  185.720001  186.580002  183.324997  183.419998  183.419998   \n",
              " \n",
              "        Volume  \n",
              " 0    18517500  \n",
              " 1    23865800  \n",
              " 2    13888300  \n",
              " 3    17830300  \n",
              " 4    17732500  \n",
              " ..        ...  \n",
              " 247  18198300  \n",
              " 248  18917700  \n",
              " 249  13375700  \n",
              " 250  13025700  \n",
              " 251  23020000  \n",
              " \n",
              " [252 rows x 7 columns],\n",
              "            Date        Open        High         Low       Close   Adj Close  \\\n",
              " 0    2023-07-03  286.700012  289.399994  284.850006  286.019989  285.433441   \n",
              " 1    2023-07-05  287.649994  298.119995  286.359985  294.369995  293.766327   \n",
              " 2    2023-07-06  295.890015  298.119995  291.309998  291.989990  291.391205   \n",
              " 3    2023-07-07  292.179993  296.200012  288.660004  290.529999  289.934204   \n",
              " 4    2023-07-10  295.549988  298.130005  287.049988  294.100006  293.496887   \n",
              " ..          ...         ...         ...         ...         ...         ...   \n",
              " 248  2024-06-27  514.250000  522.880005  513.900024  519.559998  519.559998   \n",
              " 249  2024-06-28  517.150024  521.880005  503.839996  504.220001  504.220001   \n",
              " 250  2024-07-01  504.950012  506.579987  493.170013  504.679993  504.679993   \n",
              " 251  2024-07-02  500.760010  510.500000  499.450012  509.500000  509.500000   \n",
              " 252  2024-07-03  506.100006  511.260010  506.019989  509.959991  509.959991   \n",
              " \n",
              "        Volume  \n",
              " 0     8629300  \n",
              " 1    33865500  \n",
              " 2    47600500  \n",
              " 3    25546200  \n",
              " 4    37058300  \n",
              " ..        ...  \n",
              " 248  10121200  \n",
              " 249  15855100  \n",
              " 250  10328200  \n",
              " 251   7729100  \n",
              " 252   5958512  \n",
              " \n",
              " [253 rows x 7 columns])"
            ]
          },
          "metadata": {},
          "execution_count": 4
        }
      ]
    },
    {
      "cell_type": "code",
      "source": [],
      "metadata": {
        "id": "2TA2FzJvNpRh"
      },
      "execution_count": null,
      "outputs": []
    }
  ]
}